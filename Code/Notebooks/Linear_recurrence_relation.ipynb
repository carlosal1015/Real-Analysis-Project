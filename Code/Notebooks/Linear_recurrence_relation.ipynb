{
 "cells": [
  {
   "cell_type": "code",
   "execution_count": 4,
   "metadata": {},
   "outputs": [
    {
     "name": "stdout",
     "output_type": "stream",
     "text": [
      "3.7.3 (default, Mar 27 2019, 22:11:17) \n",
      "[GCC 7.3.0]\n"
     ]
    }
   ],
   "source": [
    "import sys\n",
    "print(sys.version)"
   ]
  },
  {
   "cell_type": "code",
   "execution_count": 9,
   "metadata": {},
   "outputs": [],
   "source": [
    "import pandas as pd\n",
    "import numpy as np\n",
    "\n",
    "testfile = \"test.csv\"\n",
    "data = open(testfile).readlines()\n",
    "\n",
    "sequences={}   #(key, value) = (id , sequence)\n",
    "for i in range(1,len(data)): \n",
    "    line=data[i]\n",
    "    line =line.replace('\"','')\n",
    "    line = line[:-1].split(',')\n",
    "    id = int(line[0])\n",
    "    sequence=[int(x) for x in line[1:]];\n",
    "    sequences[id]=sequence"
   ]
  },
  {
   "cell_type": "code",
   "execution_count": 10,
   "metadata": {},
   "outputs": [],
   "source": [
    "def checkRecurrence(seq, order= 2, minlength = 7):\n",
    "    \"\"\"\n",
    "    :type seq: List[int]\n",
    "    :type order: int\n",
    "    :type minlength: int \n",
    "    :rtype: List[int]\n",
    "\n",
    "    Check whether the input sequence is a recurrence sequence with given order.\n",
    "    If it is, return the coefficients for the recurrenec relation.\n",
    "    If not, return None.\n",
    "    \"\"\"\n",
    "    if len(seq)< max((2*order+1), minlength):\n",
    "        return None\n",
    "\n",
    "    ################ Set up the system of equations \n",
    "    A,b = [], []\n",
    "    for i in range(order):\n",
    "        A.append(seq[i:i+order])\n",
    "        b.append(seq[i+order])\n",
    "    A,b =np.array(A), np.array(b)\n",
    "    try:\n",
    "        if np.linalg.det(A)==0:\n",
    "            return None\n",
    "    except TypeError:\n",
    "        return None\n",
    "\n",
    "    #############  Solve for the coefficients (c0, c1, c2, ...)\n",
    "    coeffs = np.linalg.inv(A).dot(b)  \n",
    "    \n",
    "    ############  Check if the next terms satisfy recurrence relation\n",
    "    for i in range(2*order, len(seq)):\n",
    "        predict = np.sum(coeffs*np.array(seq[i-order:i]))\n",
    "        if abs(predict-seq[i])>10**(-2):\n",
    "            return None\n",
    "\n",
    "    return list(coeffs)\n",
    "\n",
    "def predictNextTerm(seq, coeffs):\n",
    "    \"\"\"\n",
    "    :type seq: List[int]\n",
    "    :type coeffs: List[int]\n",
    "    :rtype: int\n",
    "\n",
    "    Given a sequence and coefficienes, compute the next term for the sequence.\n",
    "    \"\"\"\n",
    "\n",
    "    order = len(coeffs)\n",
    "    predict = np.sum(coeffs*np.array(seq[-order:]))\n",
    "    return int(round(predict))"
   ]
  },
  {
   "cell_type": "code",
   "execution_count": 13,
   "metadata": {},
   "outputs": [
    {
     "name": "stdout",
     "output_type": "stream",
     "text": [
      "[2.0000000000000284, -5.0, 4.000000000000014]\n",
      "1041\n"
     ]
    }
   ],
   "source": [
    "seq = [1,5,11,21,39,73,139,269,527]\n",
    "print (checkRecurrence(seq,3))\n",
    "print (predictNextTerm(seq, [2,-5,4]))"
   ]
  },
  {
   "cell_type": "code",
   "execution_count": 15,
   "metadata": {},
   "outputs": [
    {
     "name": "stdout",
     "output_type": "stream",
     "text": [
      "We found 1698 sequences\n",
      "\n",
      "Some examples\n",
      "\n",
      "ID,  Prediction,  Coefficients\n",
      "84, 87960930222080, [0, 4]\n",
      "90, 96147057896403, [8, 3]\n",
      "285, 92470734734, [4, 1]\n",
      "287, 90486, [-1, 2]\n",
      "433, 139, [-1, 2]\n"
     ]
    }
   ],
   "source": [
    "order2Seq={}   #(key, value) = (sequence id, [prediction, coefficients])\n",
    "for id in sequences:  \n",
    "    seq = sequences[id]\n",
    "    coeff = checkRecurrence(seq,2)\n",
    "    if coeff!=None:\n",
    "        predict = predictNextTerm(seq, coeff)\n",
    "        order2Seq[id]=(predict,coeff)\n",
    "\n",
    "print (\"We found %d sequences\\n\" %len(order2Seq))\n",
    "\n",
    "print  (\"Some examples\\n\")\n",
    "print (\"ID,  Prediction,  Coefficients\")\n",
    "for key in sorted(order2Seq)[0:5]:\n",
    "    value = order2Seq[key]\n",
    "    print (\"%s, %s, %s\" %(key, value[0], [int(round(x)) for x in value[1]]))"
   ]
  },
  {
   "cell_type": "code",
   "execution_count": 16,
   "metadata": {},
   "outputs": [
    {
     "name": "stdout",
     "output_type": "stream",
     "text": [
      "We found 1906 sequences\n",
      "\n",
      "Some examples\n",
      "\n",
      "ID,  Prediction,  Coefficients\n",
      "2, 725161963867, [-2, 3, 2]\n",
      "22, 32855719753, [1, -2, 3]\n",
      "114, 335, [-1, 1, 1]\n",
      "196, 226257606, [2, 0, 1]\n",
      "324, 2147483676, [2, -5, 4]\n"
     ]
    }
   ],
   "source": [
    "order3Seq={}\n",
    "for id in sequences:\n",
    "    if id in order2Seq:\n",
    "        continue\n",
    "    seq = sequences[id]\n",
    "    coeff = checkRecurrence(seq,3)\n",
    "    if coeff!=None:\n",
    "        predict = predictNextTerm(seq, coeff)\n",
    "        order3Seq[id]=(predict,coeff)\n",
    "\n",
    "print (\"We found %d sequences\\n\" %len(order3Seq))\n",
    "\n",
    "print  (\"Some examples\\n\")\n",
    "print (\"ID,  Prediction,  Coefficients\")\n",
    "for key in sorted(order3Seq)[0:5]:\n",
    "    value = order3Seq[key]\n",
    "    print (\"%s, %s, %s\" %(key, value[0], [int(round(x)) for x in value[1]]))"
   ]
  },
  {
   "cell_type": "code",
   "execution_count": 17,
   "metadata": {},
   "outputs": [
    {
     "name": "stdout",
     "output_type": "stream",
     "text": [
      "We found 1641 sequences \n",
      "\n",
      "Some examples\n",
      "\n",
      "ID,  Prediction,  Coefficients\n",
      "239, 5662052980, [-6, -3, 5, 1]\n",
      "[0, 0, 0, 1, 1, 6, 8, 29, 45, 130, 220, 561, 1001, 2366, 4368, 9829, 18565]\n"
     ]
    }
   ],
   "source": [
    "order4Seq={}\n",
    "for id in sequences:  \n",
    "    if id in order2Seq or id in order3Seq:\n",
    "        continue\n",
    "    seq = sequences[id]\n",
    "    coeff = checkRecurrence(seq,4)\n",
    "    if coeff!=None:\n",
    "        predict = predictNextTerm(seq, coeff)\n",
    "        order4Seq[id]=(predict,coeff)\n",
    "\n",
    "print (\"We found %d sequences \\n\" %len(order4Seq))\n",
    "print  (\"Some examples\\n\")\n",
    "print (\"ID,  Prediction,  Coefficients\")\n",
    "for key in sorted(order4Seq)[4:5]:\n",
    "    value = order4Seq[key]\n",
    "    print (\"%s, %s, %s\" %(key, value[0], [int(round(x)) for x in value[1]]))\n",
    "\n",
    "print (sequences[239][0:17])"
   ]
  },
  {
   "cell_type": "code",
   "execution_count": null,
   "metadata": {},
   "outputs": [],
   "source": [
    "print(\"Conclusion:\")\n",
    "print(\"Number of sequences in the test set:\", len(sequences))\n",
    "print(\"Number of 2nd order sequences:\", len(order2Seq))\n",
    "print(\"Number of 3rd order sequences:\", len(order3Seq))\n",
    "print(\"Number of 4th order sequences:\", len(order4Seq))"
   ]
  }
 ],
 "metadata": {
  "kernelspec": {
   "display_name": "Python 3",
   "language": "python",
   "name": "python3"
  },
  "language_info": {
   "codemirror_mode": {
    "name": "ipython",
    "version": 3
   },
   "file_extension": ".py",
   "mimetype": "text/x-python",
   "name": "python",
   "nbconvert_exporter": "python",
   "pygments_lexer": "ipython3",
   "version": "3.7.3"
  }
 },
 "nbformat": 4,
 "nbformat_minor": 2
}
