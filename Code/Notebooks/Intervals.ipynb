{
 "cells": [
  {
   "cell_type": "markdown",
   "metadata": {},
   "source": [
    "# Usando el módulo `Interval` de Sympy"
   ]
  },
  {
   "cell_type": "code",
   "execution_count": 134,
   "metadata": {},
   "outputs": [],
   "source": [
    "from sympy import (\n",
    "    Symbol,\n",
    "    Interval,\n",
    "    Union,\n",
    "    oo,\n",
    "    FiniteSet,\n",
    "    pprint,\n",
    "    S\n",
    ")\n",
    "def infsup(I):\n",
    "    print(\"Su infimo es\",I.inf)\n",
    "    print(\"Su supremo es\",I.sup)"
   ]
  },
  {
   "cell_type": "code",
   "execution_count": 39,
   "metadata": {},
   "outputs": [
    {
     "name": "stdout",
     "output_type": "stream",
     "text": [
      "El intervalo unitario:\n"
     ]
    },
    {
     "data": {
      "text/latex": [
       "$\\displaystyle \\left[0, 1\\right]$"
      ],
      "text/plain": [
       "Interval(0, 1)"
      ]
     },
     "execution_count": 39,
     "metadata": {},
     "output_type": "execute_result"
    }
   ],
   "source": [
    "I0 = Interval(0,1)\n",
    "print(\"El intervalo unitario:\")\n",
    "I0"
   ]
  },
  {
   "cell_type": "code",
   "execution_count": 41,
   "metadata": {},
   "outputs": [
    {
     "name": "stdout",
     "output_type": "stream",
     "text": [
      "Su infimo es 0\n",
      "Su supremo es 1\n",
      "None\n"
     ]
    }
   ],
   "source": [
    "print(infsup(I0))"
   ]
  },
  {
   "cell_type": "code",
   "execution_count": 42,
   "metadata": {},
   "outputs": [
    {
     "data": {
      "text/latex": [
       "$\\displaystyle \\left[0, 1\\right] \\cup \\left[2, 3\\right]$"
      ],
      "text/plain": [
       "Union(Interval(0, 1), Interval(2, 3))"
      ]
     },
     "execution_count": 42,
     "metadata": {},
     "output_type": "execute_result"
    }
   ],
   "source": [
    "I1 = Union(Interval(0, 1), Interval(2, 3))\n",
    "I1"
   ]
  },
  {
   "cell_type": "code",
   "execution_count": 44,
   "metadata": {
    "scrolled": true
   },
   "outputs": [
    {
     "name": "stdout",
     "output_type": "stream",
     "text": [
      "Su infimo es 0\n",
      "Su supremo es 3\n",
      "None\n"
     ]
    }
   ],
   "source": [
    "print(infsup(I1))"
   ]
  },
  {
   "cell_type": "code",
   "execution_count": 51,
   "metadata": {},
   "outputs": [
    {
     "data": {
      "text/latex": [
       "$\\displaystyle \\left(0.1, 1.1\\right) \\cup \\left(5.1, 9.1\\right)$"
      ],
      "text/plain": [
       "Union(Interval.open(0.100000000000000, 1.10000000000000), Interval.open(5.10000000000000, 9.10000000000000))"
      ]
     },
     "execution_count": 51,
     "metadata": {},
     "output_type": "execute_result"
    }
   ],
   "source": [
    "I2 = Interval(0.1, 1.1, left_open = True, right_open = True) + Interval(5.1, 9.1, left_open = True, right_open = True)\n",
    "I2"
   ]
  },
  {
   "cell_type": "code",
   "execution_count": 52,
   "metadata": {},
   "outputs": [
    {
     "name": "stdout",
     "output_type": "stream",
     "text": [
      "Su infimo es 0.100000000000000\n",
      "Su supremo es 9.10000000000000\n",
      "None\n"
     ]
    }
   ],
   "source": [
    "print(infsup(I2))"
   ]
  },
  {
   "cell_type": "code",
   "execution_count": 60,
   "metadata": {},
   "outputs": [
    {
     "data": {
      "text/latex": [
       "$\\displaystyle \\left(a, b\\right)$"
      ],
      "text/plain": [
       "Interval.open(a, b)"
      ]
     },
     "execution_count": 60,
     "metadata": {},
     "output_type": "execute_result"
    }
   ],
   "source": [
    "a = Symbol('a', real = True)\n",
    "b = Symbol('b', real = True)\n",
    "I3 = Interval(a, b, left_open = True, right_open = True)\n",
    "I3"
   ]
  },
  {
   "cell_type": "code",
   "execution_count": 61,
   "metadata": {},
   "outputs": [
    {
     "name": "stdout",
     "output_type": "stream",
     "text": [
      "Su infimo es a\n",
      "Su supremo es b\n",
      "None\n"
     ]
    }
   ],
   "source": [
    "print(infsup(I3))"
   ]
  },
  {
   "cell_type": "code",
   "execution_count": 68,
   "metadata": {},
   "outputs": [
    {
     "data": {
      "text/latex": [
       "$\\displaystyle \\left[a, \\infty\\right)$"
      ],
      "text/plain": [
       "Interval(a, oo)"
      ]
     },
     "execution_count": 68,
     "metadata": {},
     "output_type": "execute_result"
    }
   ],
   "source": [
    "I4 = Interval(a, oo)\n",
    "I4"
   ]
  },
  {
   "cell_type": "code",
   "execution_count": 72,
   "metadata": {},
   "outputs": [
    {
     "name": "stdout",
     "output_type": "stream",
     "text": [
      "Su infimo es a\n",
      "Su supremo es oo\n",
      "None\n",
      "False\n",
      "True\n"
     ]
    }
   ],
   "source": [
    "print(infsup(I4))\n",
    "print(I4.is_left_unbounded) # True means -oo\n",
    "print(I4.is_right_unbounded)# True means +oo"
   ]
  },
  {
   "cell_type": "code",
   "execution_count": 84,
   "metadata": {},
   "outputs": [
    {
     "name": "stdout",
     "output_type": "stream",
     "text": [
      "{1, 2, 3, 4}\n"
     ]
    }
   ],
   "source": [
    "I5 = FiniteSet(1, 2, 3, 4)\n",
    "print(I5)\n",
    "# type(I5)"
   ]
  },
  {
   "cell_type": "code",
   "execution_count": 89,
   "metadata": {},
   "outputs": [
    {
     "data": {
      "text/latex": [
       "$\\displaystyle \\emptyset$"
      ],
      "text/plain": [
       "EmptySet()"
      ]
     },
     "execution_count": 89,
     "metadata": {},
     "output_type": "execute_result"
    }
   ],
   "source": [
    "S.EmptySet"
   ]
  },
  {
   "cell_type": "code",
   "execution_count": 90,
   "metadata": {},
   "outputs": [
    {
     "data": {
      "text/latex": [
       "$\\displaystyle UniversalSet\\left(\\right)$"
      ],
      "text/plain": [
       "UniversalSet()"
      ]
     },
     "execution_count": 90,
     "metadata": {},
     "output_type": "execute_result"
    }
   ],
   "source": [
    "S.UniversalSet"
   ]
  },
  {
   "cell_type": "code",
   "execution_count": 135,
   "metadata": {},
   "outputs": [
    {
     "name": "stdout",
     "output_type": "stream",
     "text": [
      "<generator object Naturals.__iter__ at 0x10ea95750>\n",
      "{1, 2, …, 100}\n"
     ]
    }
   ],
   "source": [
    "iterable = iter(S.Naturals)\n",
    "pprint(iterable)\n",
    "pprint(S.Naturals.intersect(Interval(0, 100)))\n",
    "#for i in range(10):\n",
    "#    iterable.next()"
   ]
  },
  {
   "cell_type": "code",
   "execution_count": 136,
   "metadata": {},
   "outputs": [
    {
     "data": {
      "text/latex": [
       "$\\displaystyle \\left\\{0, 1\\right\\}$"
      ],
      "text/plain": [
       "{0, 1}"
      ]
     },
     "execution_count": 136,
     "metadata": {},
     "output_type": "execute_result"
    }
   ],
   "source": [
    "I0.boundary"
   ]
  },
  {
   "cell_type": "code",
   "execution_count": 137,
   "metadata": {},
   "outputs": [
    {
     "data": {
      "text/latex": [
       "$\\displaystyle \\left(0, 1\\right)$"
      ],
      "text/plain": [
       "Interval.open(0, 1)"
      ]
     },
     "execution_count": 137,
     "metadata": {},
     "output_type": "execute_result"
    }
   ],
   "source": [
    "I0.interior"
   ]
  },
  {
   "cell_type": "code",
   "execution_count": 139,
   "metadata": {},
   "outputs": [
    {
     "data": {
      "text/latex": [
       "$\\displaystyle \\left\\{a\\right\\} \\cup \\left[a, \\infty\\right)$"
      ],
      "text/plain": [
       "Union({a}, Interval(a, oo))"
      ]
     },
     "execution_count": 139,
     "metadata": {},
     "output_type": "execute_result"
    }
   ],
   "source": [
    "I4.closure"
   ]
  },
  {
   "cell_type": "code",
   "execution_count": 140,
   "metadata": {},
   "outputs": [
    {
     "name": "stdout",
     "output_type": "stream",
     "text": [
      "\n",
      "        The complement of 'self' w.r.t the given universe.\n",
      "\n",
      "        Examples\n",
      "        ========\n",
      "\n",
      "        >>> from sympy import Interval, S\n",
      "        >>> Interval(0, 1).complement(S.Reals)\n",
      "        Union(Interval.open(-oo, 0), Interval.open(1, oo))\n",
      "\n",
      "        >>> Interval(0, 1).complement(S.UniversalSet)\n",
      "        UniversalSet() \\ Interval(0, 1)\n",
      "\n",
      "        \n"
     ]
    }
   ],
   "source": [
    "print(Interval.complement.__doc__)"
   ]
  }
 ],
 "metadata": {
  "kernelspec": {
   "display_name": "Python 3",
   "language": "python",
   "name": "python3"
  },
  "language_info": {
   "codemirror_mode": {
    "name": "ipython",
    "version": 3
   },
   "file_extension": ".py",
   "mimetype": "text/x-python",
   "name": "python",
   "nbconvert_exporter": "python",
   "pygments_lexer": "ipython3",
   "version": "3.7.3"
  }
 },
 "nbformat": 4,
 "nbformat_minor": 2
}
