{
 "cells": [
  {
   "cell_type": "code",
   "execution_count": 8,
   "metadata": {},
   "outputs": [
    {
     "name": "stdout",
     "output_type": "stream",
     "text": [
      "165506647324519964198468195444439180017513152706377497841851388766535868639572406808911988131737645185443\n"
     ]
    }
   ],
   "source": [
    "__author__=\"Atalay Samet Ergen\"\n",
    "\"\"\"\n",
    "In number theory, Sylvester's sequence is an integer sequence in which each member of the sequence is\n",
    "the product of the previous members, plus one. The first few terms of the sequence are:\n",
    "2, 3, 7, 43, 1807, 3263443, 10650056950807, 113423713055421844361000443 (sequence A000058 in the OEIS).\n",
    "Reference: https://en.wikipedia.org/wiki/Sylvester%27s_sequence\n",
    "\"\"\"\n",
    "def sylvelsterSequence(n):\n",
    "    product = 1\n",
    "    for i in range(n):\n",
    "        product *= sylvelsterSequence(i)\n",
    "    return product + 1\n",
    "\n",
    "print(sylvelsterSequence(9))"
   ]
  },
  {
   "cell_type": "code",
   "execution_count": 15,
   "metadata": {},
   "outputs": [
    {
     "name": "stdout",
     "output_type": "stream",
     "text": [
      "61\n"
     ]
    }
   ],
   "source": [
    "\"\"\"\n",
    "Iterative implementation of Ackermann's function\n",
    "by Ryan Wilson-Perkin\n",
    "for CIS3190W15: Legacy Programming\n",
    "\"Great, kid. Don't get cocky.\" https://www.youtube.com/watch?v=nN9xsFUsPqM\n",
    "\"\"\"\n",
    "def ackermann(m, n):\n",
    "    stack = []\n",
    "    stack.append(m)\n",
    "    while stack:\n",
    "        m = stack.pop()\n",
    "        if m == 0:\n",
    "            n = n + 1\n",
    "        elif n == 0:\n",
    "            n = 1\n",
    "            stack.append(m-1)\n",
    "        else:\n",
    "            n = n - 1\n",
    "            stack.append(m-1)\n",
    "            stack.append(m)\n",
    "    return n\n",
    "m, n = 3, 3\n",
    "print(ackermann(m, n))"
   ]
  },
  {
   "cell_type": "code",
   "execution_count": 16,
   "metadata": {},
   "outputs": [],
   "source": [
    "from turtle import *\n",
    "\n",
    "SIZE  = 10 # (!) Try changing the line length by a litte.\n",
    "ANGLE = 90 # (!) Try changing the turning angle by a litte.\n",
    "LEVEL = 5  # (!) Try changing the recursive level by a litte.\n",
    "\n",
    "bgcolor('#B20059')\n",
    "pencolor('#FFE6F2')\n",
    "fillcolor('#FFE6F2')\n",
    "\n",
    "speed('fastest')\n",
    "#tracer(1, 0) # (!) Try uncommenting this line to draw the shape faster.\n",
    "\n",
    "penup()\n",
    "goto(-320, 0)\n",
    "pendown()\n",
    "\n",
    "#setheading(20) # (!) Try uncommenting this line.\n",
    "\n",
    "def hilbert_curve(level, angle):\n",
    "    if level == 0:\n",
    "        return\n",
    "\n",
    "    right(angle)\n",
    "    hilbert_curve(level - 1, -angle)\n",
    "    forward(SIZE)\n",
    "    left(angle)\n",
    "    hilbert_curve(level - 1, angle)\n",
    "    forward(SIZE)\n",
    "    hilbert_curve(level - 1, angle)\n",
    "    left(angle)\n",
    "    forward(SIZE)\n",
    "    hilbert_curve(level - 1, -angle)\n",
    "    right(angle)\n",
    "\n",
    "def filled_in_hilbert():\n",
    "    begin_fill()\n",
    "    hilbert_curve(LEVEL, ANGLE) # draw first quadrant\n",
    "    forward(SIZE)\n",
    "\n",
    "    hilbert_curve(LEVEL, ANGLE) # draw second quadrant\n",
    "    left(ANGLE)\n",
    "    forward(SIZE)\n",
    "    left(ANGLE)\n",
    "\n",
    "    hilbert_curve(LEVEL, ANGLE) # draw third quadrant\n",
    "    forward(SIZE)\n",
    "\n",
    "    hilbert_curve(LEVEL, ANGLE) # draw fourth quadrant\n",
    "    left(ANGLE)\n",
    "    forward(SIZE)\n",
    "    left(ANGLE)\n",
    "    end_fill()\n",
    "\n",
    "filled_in_hilbert()\n",
    "update()\n",
    "exitonclick()"
   ]
  },
  {
   "cell_type": "code",
   "execution_count": 2,
   "metadata": {},
   "outputs": [
    {
     "ename": "Terminator",
     "evalue": "",
     "output_type": "error",
     "traceback": [
      "\u001b[0;31m---------------------------------------------------------------------------\u001b[0m",
      "\u001b[0;31mTerminator\u001b[0m                                Traceback (most recent call last)",
      "\u001b[0;32m<ipython-input-2-396f4b856a05>\u001b[0m in \u001b[0;36m<module>\u001b[0;34m\u001b[0m\n\u001b[1;32m     77\u001b[0m         \u001b[0mdrawInnerRectangle\u001b[0m\u001b[0;34m(\u001b[0m\u001b[0mx\u001b[0m \u001b[0;34m+\u001b[0m \u001b[0mtwoThirdsWidth\u001b[0m\u001b[0;34m,\u001b[0m \u001b[0my\u001b[0m\u001b[0;34m,\u001b[0m \u001b[0moneThirdWidth\u001b[0m\u001b[0;34m,\u001b[0m \u001b[0moneThirdHeight\u001b[0m\u001b[0;34m)\u001b[0m\u001b[0;34m\u001b[0m\u001b[0;34m\u001b[0m\u001b[0m\n\u001b[1;32m     78\u001b[0m \u001b[0;34m\u001b[0m\u001b[0m\n\u001b[0;32m---> 79\u001b[0;31m \u001b[0mdrawCarpet\u001b[0m\u001b[0;34m(\u001b[0m\u001b[0;36m50\u001b[0m\u001b[0;34m,\u001b[0m \u001b[0;36m50\u001b[0m\u001b[0;34m,\u001b[0m \u001b[0;36m600\u001b[0m\u001b[0;34m,\u001b[0m \u001b[0;36m600\u001b[0m\u001b[0;34m)\u001b[0m\u001b[0;34m\u001b[0m\u001b[0;34m\u001b[0m\u001b[0m\n\u001b[0m\u001b[1;32m     80\u001b[0m \u001b[0;31m#turtle.exitonclick()\u001b[0m\u001b[0;34m\u001b[0m\u001b[0;34m\u001b[0m\u001b[0;34m\u001b[0m\u001b[0m\n",
      "\u001b[0;32m<ipython-input-2-396f4b856a05>\u001b[0m in \u001b[0;36mdrawCarpet\u001b[0;34m(x, y, width, height)\u001b[0m\n\u001b[1;32m     32\u001b[0m \u001b[0;34m\u001b[0m\u001b[0m\n\u001b[1;32m     33\u001b[0m     \u001b[0;31m# Draw the inner rectangles.\u001b[0m\u001b[0;34m\u001b[0m\u001b[0;34m\u001b[0m\u001b[0;34m\u001b[0m\u001b[0m\n\u001b[0;32m---> 34\u001b[0;31m     \u001b[0mdrawInnerRectangle\u001b[0m\u001b[0;34m(\u001b[0m\u001b[0mx\u001b[0m\u001b[0;34m,\u001b[0m \u001b[0my\u001b[0m\u001b[0;34m,\u001b[0m \u001b[0mwidth\u001b[0m\u001b[0;34m,\u001b[0m \u001b[0mheight\u001b[0m\u001b[0;34m)\u001b[0m\u001b[0;34m\u001b[0m\u001b[0;34m\u001b[0m\u001b[0m\n\u001b[0m\u001b[1;32m     35\u001b[0m \u001b[0;34m\u001b[0m\u001b[0m\n\u001b[1;32m     36\u001b[0m \u001b[0;32mdef\u001b[0m \u001b[0mdrawInnerRectangle\u001b[0m\u001b[0;34m(\u001b[0m\u001b[0mx\u001b[0m\u001b[0;34m,\u001b[0m \u001b[0my\u001b[0m\u001b[0;34m,\u001b[0m \u001b[0mwidth\u001b[0m\u001b[0;34m,\u001b[0m \u001b[0mheight\u001b[0m\u001b[0;34m)\u001b[0m\u001b[0;34m:\u001b[0m\u001b[0;34m\u001b[0m\u001b[0;34m\u001b[0m\u001b[0m\n",
      "\u001b[0;32m<ipython-input-2-396f4b856a05>\u001b[0m in \u001b[0;36mdrawInnerRectangle\u001b[0;34m(x, y, width, height)\u001b[0m\n\u001b[1;32m     64\u001b[0m \u001b[0;34m\u001b[0m\u001b[0m\n\u001b[1;32m     65\u001b[0m         \u001b[0;31m# Draw the inner rectangles across the top.\u001b[0m\u001b[0;34m\u001b[0m\u001b[0;34m\u001b[0m\u001b[0;34m\u001b[0m\u001b[0m\n\u001b[0;32m---> 66\u001b[0;31m         \u001b[0mdrawInnerRectangle\u001b[0m\u001b[0;34m(\u001b[0m\u001b[0mx\u001b[0m\u001b[0;34m,\u001b[0m \u001b[0my\u001b[0m \u001b[0;34m+\u001b[0m \u001b[0mtwoThirdsHeight\u001b[0m\u001b[0;34m,\u001b[0m \u001b[0moneThirdWidth\u001b[0m\u001b[0;34m,\u001b[0m \u001b[0moneThirdHeight\u001b[0m\u001b[0;34m)\u001b[0m\u001b[0;34m\u001b[0m\u001b[0;34m\u001b[0m\u001b[0m\n\u001b[0m\u001b[1;32m     67\u001b[0m         \u001b[0mdrawInnerRectangle\u001b[0m\u001b[0;34m(\u001b[0m\u001b[0mx\u001b[0m \u001b[0;34m+\u001b[0m \u001b[0moneThirdWidth\u001b[0m\u001b[0;34m,\u001b[0m \u001b[0my\u001b[0m \u001b[0;34m+\u001b[0m \u001b[0mtwoThirdsHeight\u001b[0m\u001b[0;34m,\u001b[0m \u001b[0moneThirdWidth\u001b[0m\u001b[0;34m,\u001b[0m \u001b[0moneThirdHeight\u001b[0m\u001b[0;34m)\u001b[0m\u001b[0;34m\u001b[0m\u001b[0;34m\u001b[0m\u001b[0m\n\u001b[1;32m     68\u001b[0m         \u001b[0mdrawInnerRectangle\u001b[0m\u001b[0;34m(\u001b[0m\u001b[0mx\u001b[0m \u001b[0;34m+\u001b[0m \u001b[0mtwoThirdsWidth\u001b[0m\u001b[0;34m,\u001b[0m \u001b[0my\u001b[0m \u001b[0;34m+\u001b[0m \u001b[0mtwoThirdsHeight\u001b[0m\u001b[0;34m,\u001b[0m \u001b[0moneThirdWidth\u001b[0m\u001b[0;34m,\u001b[0m \u001b[0moneThirdHeight\u001b[0m\u001b[0;34m)\u001b[0m\u001b[0;34m\u001b[0m\u001b[0;34m\u001b[0m\u001b[0m\n",
      "\u001b[0;32m<ipython-input-2-396f4b856a05>\u001b[0m in \u001b[0;36mdrawInnerRectangle\u001b[0;34m(x, y, width, height)\u001b[0m\n\u001b[1;32m     66\u001b[0m         \u001b[0mdrawInnerRectangle\u001b[0m\u001b[0;34m(\u001b[0m\u001b[0mx\u001b[0m\u001b[0;34m,\u001b[0m \u001b[0my\u001b[0m \u001b[0;34m+\u001b[0m \u001b[0mtwoThirdsHeight\u001b[0m\u001b[0;34m,\u001b[0m \u001b[0moneThirdWidth\u001b[0m\u001b[0;34m,\u001b[0m \u001b[0moneThirdHeight\u001b[0m\u001b[0;34m)\u001b[0m\u001b[0;34m\u001b[0m\u001b[0;34m\u001b[0m\u001b[0m\n\u001b[1;32m     67\u001b[0m         \u001b[0mdrawInnerRectangle\u001b[0m\u001b[0;34m(\u001b[0m\u001b[0mx\u001b[0m \u001b[0;34m+\u001b[0m \u001b[0moneThirdWidth\u001b[0m\u001b[0;34m,\u001b[0m \u001b[0my\u001b[0m \u001b[0;34m+\u001b[0m \u001b[0mtwoThirdsHeight\u001b[0m\u001b[0;34m,\u001b[0m \u001b[0moneThirdWidth\u001b[0m\u001b[0;34m,\u001b[0m \u001b[0moneThirdHeight\u001b[0m\u001b[0;34m)\u001b[0m\u001b[0;34m\u001b[0m\u001b[0;34m\u001b[0m\u001b[0m\n\u001b[0;32m---> 68\u001b[0;31m         \u001b[0mdrawInnerRectangle\u001b[0m\u001b[0;34m(\u001b[0m\u001b[0mx\u001b[0m \u001b[0;34m+\u001b[0m \u001b[0mtwoThirdsWidth\u001b[0m\u001b[0;34m,\u001b[0m \u001b[0my\u001b[0m \u001b[0;34m+\u001b[0m \u001b[0mtwoThirdsHeight\u001b[0m\u001b[0;34m,\u001b[0m \u001b[0moneThirdWidth\u001b[0m\u001b[0;34m,\u001b[0m \u001b[0moneThirdHeight\u001b[0m\u001b[0;34m)\u001b[0m\u001b[0;34m\u001b[0m\u001b[0;34m\u001b[0m\u001b[0m\n\u001b[0m\u001b[1;32m     69\u001b[0m \u001b[0;34m\u001b[0m\u001b[0m\n\u001b[1;32m     70\u001b[0m         \u001b[0;31m# Draw the inner rectangles across the middle.\u001b[0m\u001b[0;34m\u001b[0m\u001b[0;34m\u001b[0m\u001b[0;34m\u001b[0m\u001b[0m\n",
      "\u001b[0;32m<ipython-input-2-396f4b856a05>\u001b[0m in \u001b[0;36mdrawInnerRectangle\u001b[0;34m(x, y, width, height)\u001b[0m\n\u001b[1;32m     69\u001b[0m \u001b[0;34m\u001b[0m\u001b[0m\n\u001b[1;32m     70\u001b[0m         \u001b[0;31m# Draw the inner rectangles across the middle.\u001b[0m\u001b[0;34m\u001b[0m\u001b[0;34m\u001b[0m\u001b[0;34m\u001b[0m\u001b[0m\n\u001b[0;32m---> 71\u001b[0;31m         \u001b[0mdrawInnerRectangle\u001b[0m\u001b[0;34m(\u001b[0m\u001b[0mx\u001b[0m\u001b[0;34m,\u001b[0m \u001b[0my\u001b[0m \u001b[0;34m+\u001b[0m \u001b[0moneThirdHeight\u001b[0m\u001b[0;34m,\u001b[0m \u001b[0moneThirdWidth\u001b[0m\u001b[0;34m,\u001b[0m \u001b[0moneThirdHeight\u001b[0m\u001b[0;34m)\u001b[0m\u001b[0;34m\u001b[0m\u001b[0;34m\u001b[0m\u001b[0m\n\u001b[0m\u001b[1;32m     72\u001b[0m         \u001b[0mdrawInnerRectangle\u001b[0m\u001b[0;34m(\u001b[0m\u001b[0mx\u001b[0m \u001b[0;34m+\u001b[0m \u001b[0mtwoThirdsWidth\u001b[0m\u001b[0;34m,\u001b[0m \u001b[0my\u001b[0m \u001b[0;34m+\u001b[0m \u001b[0moneThirdHeight\u001b[0m\u001b[0;34m,\u001b[0m \u001b[0moneThirdWidth\u001b[0m\u001b[0;34m,\u001b[0m \u001b[0moneThirdHeight\u001b[0m\u001b[0;34m)\u001b[0m\u001b[0;34m\u001b[0m\u001b[0;34m\u001b[0m\u001b[0m\n\u001b[1;32m     73\u001b[0m \u001b[0;34m\u001b[0m\u001b[0m\n",
      "\u001b[0;32m<ipython-input-2-396f4b856a05>\u001b[0m in \u001b[0;36mdrawInnerRectangle\u001b[0;34m(x, y, width, height)\u001b[0m\n\u001b[1;32m     64\u001b[0m \u001b[0;34m\u001b[0m\u001b[0m\n\u001b[1;32m     65\u001b[0m         \u001b[0;31m# Draw the inner rectangles across the top.\u001b[0m\u001b[0;34m\u001b[0m\u001b[0;34m\u001b[0m\u001b[0;34m\u001b[0m\u001b[0m\n\u001b[0;32m---> 66\u001b[0;31m         \u001b[0mdrawInnerRectangle\u001b[0m\u001b[0;34m(\u001b[0m\u001b[0mx\u001b[0m\u001b[0;34m,\u001b[0m \u001b[0my\u001b[0m \u001b[0;34m+\u001b[0m \u001b[0mtwoThirdsHeight\u001b[0m\u001b[0;34m,\u001b[0m \u001b[0moneThirdWidth\u001b[0m\u001b[0;34m,\u001b[0m \u001b[0moneThirdHeight\u001b[0m\u001b[0;34m)\u001b[0m\u001b[0;34m\u001b[0m\u001b[0;34m\u001b[0m\u001b[0m\n\u001b[0m\u001b[1;32m     67\u001b[0m         \u001b[0mdrawInnerRectangle\u001b[0m\u001b[0;34m(\u001b[0m\u001b[0mx\u001b[0m \u001b[0;34m+\u001b[0m \u001b[0moneThirdWidth\u001b[0m\u001b[0;34m,\u001b[0m \u001b[0my\u001b[0m \u001b[0;34m+\u001b[0m \u001b[0mtwoThirdsHeight\u001b[0m\u001b[0;34m,\u001b[0m \u001b[0moneThirdWidth\u001b[0m\u001b[0;34m,\u001b[0m \u001b[0moneThirdHeight\u001b[0m\u001b[0;34m)\u001b[0m\u001b[0;34m\u001b[0m\u001b[0;34m\u001b[0m\u001b[0m\n\u001b[1;32m     68\u001b[0m         \u001b[0mdrawInnerRectangle\u001b[0m\u001b[0;34m(\u001b[0m\u001b[0mx\u001b[0m \u001b[0;34m+\u001b[0m \u001b[0mtwoThirdsWidth\u001b[0m\u001b[0;34m,\u001b[0m \u001b[0my\u001b[0m \u001b[0;34m+\u001b[0m \u001b[0mtwoThirdsHeight\u001b[0m\u001b[0;34m,\u001b[0m \u001b[0moneThirdWidth\u001b[0m\u001b[0;34m,\u001b[0m \u001b[0moneThirdHeight\u001b[0m\u001b[0;34m)\u001b[0m\u001b[0;34m\u001b[0m\u001b[0;34m\u001b[0m\u001b[0m\n",
      "\u001b[0;32m<ipython-input-2-396f4b856a05>\u001b[0m in \u001b[0;36mdrawInnerRectangle\u001b[0;34m(x, y, width, height)\u001b[0m\n\u001b[1;32m     56\u001b[0m         \u001b[0mturtle\u001b[0m\u001b[0;34m.\u001b[0m\u001b[0mpendown\u001b[0m\u001b[0;34m(\u001b[0m\u001b[0;34m)\u001b[0m\u001b[0;34m\u001b[0m\u001b[0;34m\u001b[0m\u001b[0m\n\u001b[1;32m     57\u001b[0m         \u001b[0mturtle\u001b[0m\u001b[0;34m.\u001b[0m\u001b[0mgoto\u001b[0m\u001b[0;34m(\u001b[0m\u001b[0mx\u001b[0m \u001b[0;34m+\u001b[0m \u001b[0moneThirdWidth\u001b[0m\u001b[0;34m,\u001b[0m \u001b[0my\u001b[0m \u001b[0;34m+\u001b[0m \u001b[0mtwoThirdsHeight\u001b[0m\u001b[0;34m)\u001b[0m\u001b[0;34m\u001b[0m\u001b[0;34m\u001b[0m\u001b[0m\n\u001b[0;32m---> 58\u001b[0;31m         \u001b[0mturtle\u001b[0m\u001b[0;34m.\u001b[0m\u001b[0mgoto\u001b[0m\u001b[0;34m(\u001b[0m\u001b[0mx\u001b[0m \u001b[0;34m+\u001b[0m \u001b[0mtwoThirdsWidth\u001b[0m\u001b[0;34m,\u001b[0m \u001b[0my\u001b[0m \u001b[0;34m+\u001b[0m \u001b[0mtwoThirdsHeight\u001b[0m\u001b[0;34m)\u001b[0m\u001b[0;34m\u001b[0m\u001b[0;34m\u001b[0m\u001b[0m\n\u001b[0m\u001b[1;32m     59\u001b[0m         \u001b[0mturtle\u001b[0m\u001b[0;34m.\u001b[0m\u001b[0mgoto\u001b[0m\u001b[0;34m(\u001b[0m\u001b[0mx\u001b[0m \u001b[0;34m+\u001b[0m \u001b[0mtwoThirdsWidth\u001b[0m\u001b[0;34m,\u001b[0m \u001b[0my\u001b[0m \u001b[0;34m+\u001b[0m \u001b[0moneThirdHeight\u001b[0m\u001b[0;34m)\u001b[0m\u001b[0;34m\u001b[0m\u001b[0;34m\u001b[0m\u001b[0m\n\u001b[1;32m     60\u001b[0m         \u001b[0mturtle\u001b[0m\u001b[0;34m.\u001b[0m\u001b[0mgoto\u001b[0m\u001b[0;34m(\u001b[0m\u001b[0mx\u001b[0m \u001b[0;34m+\u001b[0m \u001b[0moneThirdWidth\u001b[0m\u001b[0;34m,\u001b[0m \u001b[0my\u001b[0m \u001b[0;34m+\u001b[0m \u001b[0moneThirdHeight\u001b[0m\u001b[0;34m)\u001b[0m\u001b[0;34m\u001b[0m\u001b[0;34m\u001b[0m\u001b[0m\n",
      "\u001b[0;32m~/anaconda3/lib/python3.7/turtle.py\u001b[0m in \u001b[0;36mgoto\u001b[0;34m(x, y)\u001b[0m\n",
      "\u001b[0;31mTerminator\u001b[0m: "
     ]
    }
   ],
   "source": [
    "import turtle\n",
    "turtle.tracer(10, 0) # Increase the first argument to speed up the drawing.\n",
    "turtle.setworldcoordinates(0, 0, 700, 700)\n",
    "turtle.hideturtle()\n",
    "\n",
    "MIN_SIZE = 6 # Try changing this to decrease/increase the amount of recursion.\n",
    "DRAW_SOLID = True\n",
    "\n",
    "def isTooSmall(width, height):\n",
    "    # Determine if the rectangle is too small to draw.\n",
    "    return width < MIN_SIZE or height < MIN_SIZE\n",
    "\n",
    "def drawCarpet(x, y, width, height):\n",
    "    # The x and y are the lower left corner of the carpet.\n",
    "\n",
    "    # Move the pen into position.\n",
    "    turtle.penup()\n",
    "    turtle.goto(x, y)\n",
    "\n",
    "    # Draw the outer rectangle.\n",
    "    turtle.pendown()\n",
    "    if DRAW_SOLID:\n",
    "        turtle.fillcolor('black')\n",
    "        turtle.begin_fill()\n",
    "    turtle.goto(x, y + height)\n",
    "    turtle.goto(x + width, y + height)\n",
    "    turtle.goto(x + width, y)\n",
    "    turtle.goto(x, y)\n",
    "    if DRAW_SOLID:\n",
    "        turtle.end_fill()\n",
    "    turtle.penup()\n",
    "\n",
    "    # Draw the inner rectangles.\n",
    "    drawInnerRectangle(x, y, width, height)\n",
    "\n",
    "def drawInnerRectangle(x, y, width, height):\n",
    "    if isTooSmall(width, height):\n",
    "        # BASE CASE\n",
    "        return\n",
    "    else:\n",
    "        # RECURSIVE CASE\n",
    "\n",
    "        oneThirdWidth = width / 3\n",
    "        oneThirdHeight = height / 3\n",
    "        twoThirdsWidth = 2 * (width / 3)\n",
    "        twoThirdsHeight = 2 * (height / 3)\n",
    "\n",
    "        # Move into position.\n",
    "        turtle.penup()\n",
    "        turtle.goto(x + oneThirdWidth, y + oneThirdHeight)\n",
    "\n",
    "        # Draw the inner rectangle.\n",
    "        if DRAW_SOLID:\n",
    "            turtle.fillcolor('white')\n",
    "            turtle.begin_fill()\n",
    "        turtle.pendown()\n",
    "        turtle.goto(x + oneThirdWidth, y + twoThirdsHeight)\n",
    "        turtle.goto(x + twoThirdsWidth, y + twoThirdsHeight)\n",
    "        turtle.goto(x + twoThirdsWidth, y + oneThirdHeight)\n",
    "        turtle.goto(x + oneThirdWidth, y + oneThirdHeight)\n",
    "        turtle.penup()\n",
    "        if DRAW_SOLID:\n",
    "            turtle.end_fill()\n",
    "\n",
    "        # Draw the inner rectangles across the top.\n",
    "        drawInnerRectangle(x, y + twoThirdsHeight, oneThirdWidth, oneThirdHeight)\n",
    "        drawInnerRectangle(x + oneThirdWidth, y + twoThirdsHeight, oneThirdWidth, oneThirdHeight)\n",
    "        drawInnerRectangle(x + twoThirdsWidth, y + twoThirdsHeight, oneThirdWidth, oneThirdHeight)\n",
    "\n",
    "        # Draw the inner rectangles across the middle.\n",
    "        drawInnerRectangle(x, y + oneThirdHeight, oneThirdWidth, oneThirdHeight)\n",
    "        drawInnerRectangle(x + twoThirdsWidth, y + oneThirdHeight, oneThirdWidth, oneThirdHeight)\n",
    "\n",
    "        # Draw the inner rectangles across the bottom.\n",
    "        drawInnerRectangle(x, y, oneThirdWidth, oneThirdHeight)\n",
    "        drawInnerRectangle(x + oneThirdWidth, y, oneThirdWidth, oneThirdHeight)\n",
    "        drawInnerRectangle(x + twoThirdsWidth, y, oneThirdWidth, oneThirdHeight)\n",
    "\n",
    "drawCarpet(50, 50, 600, 600)\n",
    "turtle.exitonclick()"
   ]
  },
  {
   "cell_type": "code",
   "execution_count": 4,
   "metadata": {},
   "outputs": [
    {
     "data": {
      "image/png": "[encoded data removed]",
      "text/plain": [
       "<Figure size 432x288 with 1 Axes>"
      ]
     },
     "metadata": {
      "needs_background": "light"
     },
     "output_type": "display_data"
    }
   ],
   "source": [
    "import numpy as np\n",
    "\n",
    "import matplotlib.pyplot as plt\n",
    "import matplotlib.ticker as mtick\n",
    "\n",
    "x = np.linspace(1, 4, 1000)\n",
    "\n",
    "y = x**3\n",
    "\n",
    "fig, ax = plt.subplots()\n",
    "\n",
    "ax.loglog(x,y, basex=np.e, basey=np.e)\n",
    "\n",
    "def ticks(y, pos):\n",
    "    return r'$e^{:.0f}$'.format(np.log(y))\n",
    "\n",
    "ax.xaxis.set_major_formatter(mtick.FuncFormatter(ticks))\n",
    "ax.yaxis.set_major_formatter(mtick.FuncFormatter(ticks))\n",
    "\n",
    "plt.show()"
   ]
  }
 ],
 "metadata": {
  "kernelspec": {
   "display_name": "Python 3",
   "language": "python",
   "name": "python3"
  },
  "language_info": {
   "codemirror_mode": {
    "name": "ipython",
    "version": 3
   },
   "file_extension": ".py",
   "mimetype": "text/x-python",
   "name": "python",
   "nbconvert_exporter": "python",
   "pygments_lexer": "ipython3",
   "version": "3.7.3"
  }
 },
 "nbformat": 4,
 "nbformat_minor": 2
}
