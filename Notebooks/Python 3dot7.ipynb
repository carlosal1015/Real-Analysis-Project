{
 "cells": [
  {
   "cell_type": "code",
   "execution_count": 3,
   "metadata": {},
   "outputs": [],
   "source": [
    "import numpy as np\n",
    "\n",
    "def ForwardEuler(f, U0, T, n):\n",
    "    \"\"\"Solve u'=f(u,t), u(0)=U0, with n steps until t=T.\"\"\"\n",
    "    t = np.zeros(n+1)\n",
    "    u = np.zeros(n+1) # u[k] is the solution at time t[k]\n",
    "    u[0] = U0\n",
    "    t[0] = 0\n",
    "    dt = T/float(n)\n",
    "    for k in range(n):\n",
    "        t[k+1] = t[k] + dt\n",
    "        u[k+1] = u[k] + dt*f(u[k], t[k])\n",
    "    return u, t"
   ]
  },
  {
   "cell_type": "code",
   "execution_count": 4,
   "metadata": {},
   "outputs": [],
   "source": [
    "def f(u, t):\n",
    "    return u\n",
    "\n",
    "u, t = ForwardEuler(f, U0=1, T=4, n=20)\n",
    "np.p"
   ]
  },
  {
   "cell_type": "code",
   "execution_count": 2,
   "metadata": {},
   "outputs": [
    {
     "name": "stdout",
     "output_type": "stream",
     "text": [
      "3.7.3 (default, Mar 27 2019, 22:11:17) \n",
      "[GCC 7.3.0]\n"
     ]
    }
   ],
   "source": [
    "import sys\n",
    "print(sys.version)"
   ]
  }
 ],
 "metadata": {
  "kernelspec": {
   "display_name": "Python 3",
   "language": "python",
   "name": "python3"
  },
  "language_info": {
   "codemirror_mode": {
    "name": "ipython",
    "version": 3
   },
   "file_extension": ".py",
   "mimetype": "text/x-python",
   "name": "python",
   "nbconvert_exporter": "python",
   "pygments_lexer": "ipython3",
   "version": "3.7.3"
  }
 },
 "nbformat": 4,
 "nbformat_minor": 2
}
